{
 "cells": [
  {
   "cell_type": "code",
   "execution_count": 1,
   "id": "5c67a3f8",
   "metadata": {},
   "outputs": [],
   "source": [
    "from langchain_openai import ChatOpenAI\n",
    "from pydantic import BaseModel, Field\n",
    "from typing import Optional"
   ]
  },
  {
   "cell_type": "code",
   "execution_count": 11,
   "id": "3f349c2b",
   "metadata": {},
   "outputs": [],
   "source": [
    "model = ChatOpenAI(model='gpt-4.1-mini', temperature=0.0)\n",
    "class Strength(BaseModel):\n",
    "    \"\"\"Record ys, uts, strain for material\"\"\"\n",
    "    composition: Optional[str] = Field(description=\"nominal composition, e.g. CoCrFeNiMn0.2. Do not give if you cannot find\")\n",
    "    label: Optional[str] = Field(description='The label which used to uniquely identify material. Materials which undergoes different processing route should be treated as different material.')\n",
    "    ys: float = Field(description=\"yield strength in MPa\")\n",
    "    uts: float = Field(description=\"ultimate tensile strength in MPa\")\n",
    "    strain: float = Field(description=\"strain\")\n",
    "    # processes: list[str] = Field(description=\"\"\"list of processing steps chronological order, for each as a python dictionary. for example [{\"induction melting\": {\"temperature\": 1500}}, {\"annealed\": {\"temperature\": 800, \"duration\": \"1h\"}}]\"\"\")\n",
    "    original_text: str = Field(description=\"original text/table contains information, which must contains the description with respect to the material been extract. This is used for later stage of associating corresponds processing history.\")\n",
    "\n",
    "class Records(BaseModel):\n",
    "    records: Optional[list[Strength]]\n"
   ]
  },
  {
   "cell_type": "code",
   "execution_count": 10,
   "id": "296379d7",
   "metadata": {},
   "outputs": [],
   "source": [
    "text = \"\"\"The HEA with a nominal composition of V10Cr15Mn5Fe35Co10Ni25 (at%) was fabricated using vacuum induction melting furnace using pure elements of V, Cr, Mn, Fe, Co, and Ni (purity >99.9%). The as-cast sample was subjected to homogenization heat treatment at 1100 °C for 6 h under an Ar atmosphere, followed by water quenching. The homogenized sample was cold rolled through multiple passes with a final rolling reduction ratio of ≈79% (from 6.2 to 1.3 mm). The disk-shaped samples (10 mm diameter) were prepared from the cold rolled sheet using electro-discharge machining. The disk samples were annealed at two different conditions (900 °C for 10 min and 1100 °C for 60 min) to obtain microstructure with fine grains and coarse grains, respectively. Finally, the HPT process was carried out on the annealed samples at different turns (N = 1/4, 1, and 5) using a pressure of 6 GPa and a rotation rate of 1 revolution per minute (rpm).\n",
    "Results\n",
    "Table 1. YS and UTS, and total elongation to failure (δ) of the FG and CG samples of V10Cr15Mn5Fe35Co10Ni25 HEA before (N = 0) and after HPT processing with increasing the number of turns\n",
    "Number of HPT turns [N]\tSample\tYS [MPa]\tUTS [MPa]\tδ [%]\n",
    "0\tFG\t430\t    720\t    48.1\n",
    "    CG\t230\t    532\t    57.6\n",
    "1/4\tFG\t1120\t1447\t15.9\n",
    "    CG\t1270\t1502\t17.3\n",
    "1\tFG\t1630\t1813\t12.9\n",
    "    CG\t1660\t1854\t14.3\n",
    "5\tFG\t1940\t1986\t6.0\n",
    "    CG\t1950\t2015\t6.3\n",
    "\n",
    "Find all material information pertained to strength (ys, uts, strain) and correlated processing routes.\n",
    "Here are some general rules you can apply when finding the property relevant synthesis routes from experimental section:\n",
    "    1. To distinguish between materials which with same composition but different processing history, the author use unique label or relevant process parameter to describe them. Find these words in the property description section and relate with processing routes.\n",
    "    2. Be cautious about the parameter variants like temperature, duration, and atmosphere etc.\n",
    "Here are some synthesis method templates as reference and not all templates will be used, only the relevant ones.\n",
    "induction melting: {atmosphere: \"\", remelting times: \"\"}\n",
    "homogenized: temperature: {\"\", duration: \"\", atmosphere: \"\"}\n",
    "annealed: temperature: {\"\", duration: \"\", atmosphere: \"\"}\n",
    "cold rolled: reduction: {\"\", temperature: \"\"}\n",
    "high pressure torsion: {pressure: \"\", turns: \"\", rotation speed: \"\"}\n",
    "\"\"\"\n",
    "\n",
    "property_text = \"\"\"Table 1. YS and UTS, and total elongation to failure (δ) of the FG and CG samples of V10Cr15Mn5Fe35Co10Ni25 HEA before (N = 0) and after HPT processing with increasing the number of turns\n",
    "Number of HPT turns [N]\tSample\tYS [MPa]\tUTS [MPa]\tδ [%]\n",
    "0\tFG\t430\t    720\t    48.1\n",
    "    CG\t230\t    532\t    57.6\n",
    "1/4\tFG\t1120\t1447\t15.9\n",
    "    CG\t1270\t1502\t17.3\n",
    "1\tFG\t1630\t1813\t12.9\n",
    "    CG\t1660\t1854\t14.3\n",
    "5\tFG\t1940\t1986\t6.0\n",
    "    CG\t1950\t2015\t6.3\"\"\"\n",
    "\n",
    "NCTB_text = \"\"\"The tensile behavior of HL-NCATB before and after aging are presented in Fig. 2 a. In the engineering stress-strain curves of NCATB specimens, NCATB-2 can attain an ultimate tensile strength (UTS) of ~1.4 GPa with total elongation strain of ~ 30%, which gives the best combination of strength and ductility. SEM micrographs of the tensile fracture surfaces of NCATB-2 are presented in Fig. 2b and c, which exhibit clear evidence of transgranular ductile fracture. The selected areas with higher magnification show that the fracture surface of this sample is slanted at roughly 45° to the tensile direction, which is related to the plane of maximum shear stress and contains ductile microvoids. On the other hand, NCATB-5 shows a yield strength of ~1.1 GPa and an ultrahigh UTS of ~1.7 GPa with fracture elongation over 10%. The related SEM micrographs for the tensile fracture surfaces of NCATB-5 are presented in Supplementary Fig. S3, which also show transgranular fracture but contain larger ductile microvoids. In comparison with another solutionized NCATB specimen (annealed at 1050 °C for 30 min, composed of ultrafine grains + fine grains, UTS ~1.05 GPa, fracture elongation ~23%, microstructure presented in Supplementary Fig. S1) showing the highest UTS in our previous study [27], the NCATB-2 sample shows ~25% increase both in UTS and total elongation. Considering the solvus temperature of γ′ precipitates in the current matrix is over 950 °C [38,39], both NCATB-2 and NCATB-5 may lead to interesting intermediate temperature applications, depending on other features, such as precipitates and grain boundary stability.\n",
    "Find all material information pertained to strength (ys, uts, strain) included referenced ones used for comparison\"\"\"\n",
    "\n"
   ]
  },
  {
   "cell_type": "code",
   "execution_count": null,
   "id": "51be268d",
   "metadata": {},
   "outputs": [
    {
     "data": {
      "text/plain": [
       "[Strength(composition='V10Cr15Mn5Fe35Co10Ni25', label='FG, N=0', ys=430.0, uts=720.0, strain=48.1, original_text='YS and UTS, and total elongation to failure (δ) of the FG sample of V10Cr15Mn5Fe35Co10Ni25 HEA before HPT processing (N=0)'),\n",
       " Strength(composition='V10Cr15Mn5Fe35Co10Ni25', label='CG, N=0', ys=230.0, uts=532.0, strain=57.6, original_text='YS and UTS, and total elongation to failure (δ) of the CG sample of V10Cr15Mn5Fe35Co10Ni25 HEA before HPT processing (N=0)'),\n",
       " Strength(composition='V10Cr15Mn5Fe35Co10Ni25', label='FG, N=1/4', ys=1120.0, uts=1447.0, strain=15.9, original_text='YS and UTS, and total elongation to failure (δ) of the FG sample of V10Cr15Mn5Fe35Co10Ni25 HEA after HPT processing with 1/4 turn'),\n",
       " Strength(composition='V10Cr15Mn5Fe35Co10Ni25', label='CG, N=1/4', ys=1270.0, uts=1502.0, strain=17.3, original_text='YS and UTS, and total elongation to failure (δ) of the CG sample of V10Cr15Mn5Fe35Co10Ni25 HEA after HPT processing with 1/4 turn'),\n",
       " Strength(composition='V10Cr15Mn5Fe35Co10Ni25', label='FG, N=1', ys=1630.0, uts=1813.0, strain=12.9, original_text='YS and UTS, and total elongation to failure (δ) of the FG sample of V10Cr15Mn5Fe35Co10Ni25 HEA after HPT processing with 1 turn'),\n",
       " Strength(composition='V10Cr15Mn5Fe35Co10Ni25', label='CG, N=1', ys=1660.0, uts=1854.0, strain=14.3, original_text='YS and UTS, and total elongation to failure (δ) of the CG sample of V10Cr15Mn5Fe35Co10Ni25 HEA after HPT processing with 1 turn'),\n",
       " Strength(composition='V10Cr15Mn5Fe35Co10Ni25', label='FG, N=5', ys=1940.0, uts=1986.0, strain=6.0, original_text='YS and UTS, and total elongation to failure (δ) of the FG sample of V10Cr15Mn5Fe35Co10Ni25 HEA after HPT processing with 5 turns'),\n",
       " Strength(composition='V10Cr15Mn5Fe35Co10Ni25', label='CG, N=5', ys=1950.0, uts=2015.0, strain=6.3, original_text='YS and UTS, and total elongation to failure (δ) of the CG sample of V10Cr15Mn5Fe35Co10Ni25 HEA after HPT processing with 5 turns')]"
      ]
     },
     "execution_count": 7,
     "metadata": {},
     "output_type": "execute_result"
    }
   ],
   "source": [
    "model.with_structured_output(Records, method='json_schema').invoke(property_text).records"
   ]
  },
  {
   "cell_type": "code",
   "execution_count": 12,
   "id": "8124049b",
   "metadata": {},
   "outputs": [
    {
     "data": {
      "text/plain": [
       "[Strength(composition=None, label='NCATB-2', ys=1400.0, uts=1400.0, strain=0.3, original_text='NCATB-2 can attain an ultimate tensile strength (UTS) of ~1.4 GPa with total elongation strain of ~ 30%'),\n",
       " Strength(composition=None, label='NCATB-5', ys=1100.0, uts=1700.0, strain=0.1, original_text='NCATB-5 shows a yield strength of ~1.1 GPa and an ultrahigh UTS of ~1.7 GPa with fracture elongation over 10%'),\n",
       " Strength(composition=None, label='Solutionized NCATB (annealed at 1050 °C for 30 min)', ys=1050.0, uts=1050.0, strain=0.23, original_text='solutionized NCATB specimen (annealed at 1050 °C for 30 min, composed of ultrafine grains + fine grains, UTS ~1.05 GPa, fracture elongation ~23%)')]"
      ]
     },
     "execution_count": 12,
     "metadata": {},
     "output_type": "execute_result"
    }
   ],
   "source": [
    "model.with_structured_output(Records, method='json_schema').invoke(NCTB_text).records"
   ]
  }
 ],
 "metadata": {
  "kernelspec": {
   "display_name": "temp",
   "language": "python",
   "name": "python3"
  },
  "language_info": {
   "codemirror_mode": {
    "name": "ipython",
    "version": 3
   },
   "file_extension": ".py",
   "mimetype": "text/x-python",
   "name": "python",
   "nbconvert_exporter": "python",
   "pygments_lexer": "ipython3",
   "version": "3.12.11"
  }
 },
 "nbformat": 4,
 "nbformat_minor": 5
}
