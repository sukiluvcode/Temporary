{
 "cells": [
  {
   "cell_type": "code",
   "execution_count": 3,
   "id": "f7f0ecc9",
   "metadata": {},
   "outputs": [],
   "source": [
    "from langchain_openai import ChatOpenAI\n",
    "\n",
    "\n",
    "text = \"\"\"The Co30Cr20Fe18Ni14Mn18 alloy was prepared by vacuum suspension melting in an argon atmosphere using high-purity metals Co, Cr, Fe, Ni and Mn ( > 99.9 wt.%). A 3 kg ingot (ϕ60 mm × 130 mm) was repeatedly melted seven times to eliminate compositional segregation (Fig. S2). The cast alloy was homogenized at 1200 °C for 24 h. The homogenized alloy was then cold rolled to plate form and annealed at 900 °C for 5 h. After that, the plate was cold rolled again to a thickness reduction of ~80% to 1.2 mm, annealed at 730, 780 and 820 °C for 10 min and then water quenched. The plate samples were designated RA-730, RA-780 and RA-820, respectively. Fig. S3 illustrates the thermomechanical processing of the alloy.\"\"\"\n",
    "\n",
    "prompt = f\"\"\"You are reading experimental section of high entropy alloys (HEAs) paper and based on the description, you need to give you judgement about whether the author distinctly identified each material(s) frabricated\n",
    "Here are some guidances you need to follow\n",
    "- 1. If the author describes one processing route which produce only one sample, you give True as long as the chemical composition is given, else False.\n",
    "- 2. If the author describes one processing route which produce serval samples with different chemical compositions, you give True if every sample is given with composition/symbol, else Flase. General formula like MnxCoCrNi is not acceptable.\n",
    "- 3. If the author describes multiple processing routes (cases are i. with different fabrication method. ii. with different processing parameters, like temperature or duration etc. iii. any combination of i and ii.), and these routes produce multiple samples which have same composition, you give True if every of the samples are clearly labeled explicitly, else False.\n",
    "- 4. If the author describes multiple processing routes and these route produce samples with different composition, you give True if every sample is given with composition/symbol, else Flase. General formula like MnxCoCrNi is not acceptable.\n",
    "**symbol** means the author need to give explicitly defined symbol to identified the material, like A0, HEA-1, annealed-700 etc, but not some descriptional words.\n",
    "\n",
    "Experimental section\n",
    "{text}\n",
    "\"\"\"\n",
    "\n",
    "model = ChatOpenAI(model='gpt-4.1-mini', temperature=0.0)\n"
   ]
  },
  {
   "cell_type": "code",
   "execution_count": 4,
   "id": "f9bfba22",
   "metadata": {},
   "outputs": [
    {
     "data": {
      "text/plain": [
       "AIMessage(content=\"Let's analyze the description step-by-step according to the given guidelines:\\n\\n- The alloy composition is explicitly given as Co30Cr20Fe18Ni14Mn18.\\n- The processing route starts with vacuum suspension melting → homogenization → cold rolling → annealing → cold rolling → annealing at three different temperatures (730, 780, 820 °C) → water quenching.\\n- The samples after the final annealing are labeled distinctly as RA-730, RA-780, and RA-820.\\n- All samples have the same chemical composition but different processing parameters (annealing temperature).\\n- According to guidance #3: multiple processing routes (different processing parameters) producing multiple samples with the same composition require every sample to be clearly labeled explicitly.\\n- Here, all samples are clearly labeled (RA-730, RA-780, RA-820).\\n\\n**Conclusion:** The author distinctly identified each fabricated material sample.\\n\\n**Answer: True**\", additional_kwargs={'refusal': None}, response_metadata={'token_usage': {'completion_tokens': 187, 'prompt_tokens': 499, 'total_tokens': 686, 'completion_tokens_details': {'accepted_prediction_tokens': 0, 'audio_tokens': 0, 'reasoning_tokens': 0, 'rejected_prediction_tokens': 0}, 'prompt_tokens_details': {'audio_tokens': 0, 'cached_tokens': 0}}, 'model_name': 'gpt-4.1-mini-2025-04-14', 'system_fingerprint': 'fp_3f58d112f7', 'finish_reason': 'stop', 'logprobs': None}, id='run-10f6ad02-1562-4550-9ee0-46db2ca06da5-0', usage_metadata={'input_tokens': 499, 'output_tokens': 187, 'total_tokens': 686, 'input_token_details': {'audio': 0, 'cache_read': 0}, 'output_token_details': {'audio': 0, 'reasoning': 0}})"
      ]
     },
     "execution_count": 4,
     "metadata": {},
     "output_type": "execute_result"
    }
   ],
   "source": [
    "model.invoke(prompt)"
   ]
  },
  {
   "cell_type": "code",
   "execution_count": 5,
   "id": "3b133323",
   "metadata": {},
   "outputs": [
    {
     "name": "stdout",
     "output_type": "stream",
     "text": [
      "Let's analyze the description step-by-step according to the given guidelines:\n",
      "\n",
      "- The alloy composition is explicitly given as Co30Cr20Fe18Ni14Mn18.\n",
      "- The processing route starts with vacuum suspension melting → homogenization → cold rolling → annealing → cold rolling → annealing at three different temperatures (730, 780, 820 °C) → water quenching.\n",
      "- The samples after the final annealing are labeled distinctly as RA-730, RA-780, and RA-820.\n",
      "- All samples have the same chemical composition but different processing parameters (annealing temperature).\n",
      "- According to guidance #3: multiple processing routes (different processing parameters) producing multiple samples with the same composition require every sample to be clearly labeled explicitly.\n",
      "- Here, all samples are clearly labeled (RA-730, RA-780, RA-820).\n",
      "\n",
      "**Conclusion:** The author distinctly identified each fabricated material sample.\n",
      "\n",
      "**Answer: True**\n"
     ]
    }
   ],
   "source": [
    "print(_.content)"
   ]
  },
  {
   "cell_type": "code",
   "execution_count": null,
   "id": "5bd32f38",
   "metadata": {},
   "outputs": [],
   "source": []
  }
 ],
 "metadata": {
  "kernelspec": {
   "display_name": "sisyphus_heas",
   "language": "python",
   "name": "python3"
  },
  "language_info": {
   "codemirror_mode": {
    "name": "ipython",
    "version": 3
   },
   "file_extension": ".py",
   "mimetype": "text/x-python",
   "name": "python",
   "nbconvert_exporter": "python",
   "pygments_lexer": "ipython3",
   "version": "3.10.16"
  }
 },
 "nbformat": 4,
 "nbformat_minor": 5
}
